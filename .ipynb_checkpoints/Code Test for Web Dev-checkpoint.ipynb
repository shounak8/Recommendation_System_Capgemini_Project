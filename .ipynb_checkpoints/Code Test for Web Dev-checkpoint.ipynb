{
 "cells": [
  {
   "cell_type": "code",
   "execution_count": 160,
   "metadata": {},
   "outputs": [],
   "source": [
    "import pandas as pd\n",
    "import os\n",
    "import numpy as np\n",
    "from scipy.sparse import csr_matrix\n",
    "from sklearn.neighbors import NearestNeighbors\n",
    "\n",
    "\n",
    "raw_apriori_category_df =pd.read_csv('apriori_category.csv')\n",
    "raw_apriori_item_df =pd.read_csv('apriori_item.csv')\n",
    "raw_bestselling_brand_recommendation_df =pd.read_csv('bestselling_brand_recommendation.csv')\n",
    "raw_bestselling_item_recommendation_df =pd.read_csv('bestselling_item_recommendation.csv')\n",
    "raw_ratings_brand_recommendation_df =pd.read_csv('ratings_brand_recommendation.csv')\n",
    "raw_ratings_item_recommendation_df =pd.read_csv('ratings_item_recommendation.csv')\n",
    "\n",
    "\"\"\"Deleting the index column\"\"\"\n",
    "raw_apriori_category_df.drop('Unnamed: 0', axis=1, inplace=True)\n",
    "raw_apriori_item_df.drop('Unnamed: 0', axis=1, inplace=True)\n",
    "\n",
    "raw_bestselling_brand_recommendation_df.drop('Unnamed: 0', axis=1, inplace=True)\n",
    "raw_bestselling_item_recommendation_df.drop('Unnamed: 0', axis=1, inplace=True)\n",
    "\n",
    "raw_ratings_brand_recommendation_df.drop('Unnamed: 0', axis=1, inplace=True)\n",
    "raw_ratings_item_recommendation_df.drop('Unnamed: 0', axis=1, inplace=True)"
   ]
  },
  {
   "cell_type": "code",
   "execution_count": 179,
   "metadata": {},
   "outputs": [],
   "source": [
    "import pickle"
   ]
  },
  {
   "cell_type": "markdown",
   "metadata": {},
   "source": [
    "# Collaborative Based"
   ]
  },
  {
   "cell_type": "code",
   "execution_count": 178,
   "metadata": {},
   "outputs": [
    {
     "name": "stderr",
     "output_type": "stream",
     "text": [
      "C:\\Users\\shoun\\anaconda3\\lib\\site-packages\\IPython\\core\\interactiveshell.py:3146: DtypeWarning: Columns (1) have mixed types.Specify dtype option on import or set low_memory=False.\n",
      "  has_raised = await self.run_ast_nodes(code_ast.body, cell_name,\n"
     ]
    }
   ],
   "source": [
    "item_category = pd.read_csv(\"../item_category.csv\")\n",
    "def get_item_category(item_id):\n",
    "    return item_category[item_category.item_id == f\"{item_id}\"].values[0][1]\n",
    "\n",
    "# \"\"\"let us form DataFrame of Users and the items they have purchased\"\"\"\n",
    "# consolidated_db2 = pd.read_csv(\"../consolidated_db2.csv\")\n",
    "# rough = consolidated_db2[\"user_id\"].value_counts().sort_values()\n",
    "# user_purchases = pd.DataFrame({\"user_id\": rough.index, \"items_bought\": rough.values})\n",
    "\n",
    "\n",
    "# \"\"\"Let us form DataFrame of users who have bought more than 1 item\"\"\"\n",
    "# collab_df = consolidated_db2.copy()\n",
    "# collab_df = pd.merge(collab_df, user_purchases, on=\"user_id\")\n",
    "# collab_df = collab_df[collab_df.items_bought > 1]\n",
    "\n",
    "\n",
    "# \"\"\"We will consider only relevant columns required for Collaborative Filtering in our DataFrame\"\"\"\n",
    "# collab_df = collab_df[[\"item_id\", \"user_id\", \"rating\", \"category\"]]\n",
    "# collab_df.to_csv(\"collab_df.csv\", index=False)\n",
    "\n",
    "\"\"\"create pivot table\"\"\"\n",
    "collab_df = pd.read_csv(\"collab_df.csv\")\n",
    "collab_df_pivot = collab_df.pivot(\n",
    "    index=\"item_id\", columns=\"user_id\", values=\"rating\"\n",
    ").fillna(0)\n",
    "\n",
    "\"\"\"create sparse matrix to pass to KNN model for training\"\"\"\n",
    "features_df_matrix = csr_matrix(collab_df_pivot.values)\n",
    "\n",
    "\"\"\"creating list of modcloth item_ids\"\"\"\n",
    "item_list = collab_df_pivot.index.tolist()\n",
    "\n",
    "\"\"\"creating KNN model\"\"\"\n",
    "model_knn = NearestNeighbors(metric=\"cosine\", algorithm=\"brute\")\n",
    "\n",
    "\"\"\"fitting the model\"\"\"\n",
    "model_knn.fit(features_df_matrix)\n",
    "\n",
    "\n",
    "\"\"\"Let us build a function which gives 5 nearest neighbours of item\"\"\"\n",
    "\n",
    "\n",
    "def recommender_whole(item_id):\n",
    "    query_index = np.random.choice(collab_df_pivot.shape[0])\n",
    "    distances, indices = model_knn.kneighbors(\n",
    "        collab_df_pivot[collab_df_pivot.index == item_id].values.reshape(1, -1),\n",
    "        n_neighbors=6,\n",
    "    )\n",
    "    nearest_items = [collab_df_pivot.index[i] for i in indices.flatten()[1:]]\n",
    "    nearest_items_category = [\n",
    "        item_category[item_category.item_id == item][\"category\"].values[0]\n",
    "        for item in nearest_items\n",
    "    ]\n",
    "    recommended_items_df = pd.DataFrame(\n",
    "        {\"Recommended_Item\": nearest_items, \"Category\": nearest_items_category}\n",
    "    )\n",
    "    return [f\"item: {nearest_items[i]} from category: {nearest_items_category[i]}\" for i in range(len(nearest_items))]"
   ]
  },
  {
   "cell_type": "markdown",
   "metadata": {},
   "source": [
    "# Items based on Ratings"
   ]
  },
  {
   "cell_type": "code",
   "execution_count": 161,
   "metadata": {},
   "outputs": [
    {
     "data": {
      "text/html": [
       "<div>\n",
       "<style scoped>\n",
       "    .dataframe tbody tr th:only-of-type {\n",
       "        vertical-align: middle;\n",
       "    }\n",
       "\n",
       "    .dataframe tbody tr th {\n",
       "        vertical-align: top;\n",
       "    }\n",
       "\n",
       "    .dataframe thead th {\n",
       "        text-align: right;\n",
       "    }\n",
       "</style>\n",
       "<table border=\"1\" class=\"dataframe\">\n",
       "  <thead>\n",
       "    <tr style=\"text-align: right;\">\n",
       "      <th></th>\n",
       "      <th>Recommendation_System_Type</th>\n",
       "      <th>Category</th>\n",
       "      <th>Product</th>\n",
       "      <th>Brand</th>\n",
       "      <th>Rating</th>\n",
       "      <th>Sales</th>\n",
       "    </tr>\n",
       "  </thead>\n",
       "  <tbody>\n",
       "    <tr>\n",
       "      <th>0</th>\n",
       "      <td>Overall Rating</td>\n",
       "      <td>Portable Audio &amp; Video</td>\n",
       "      <td>1647</td>\n",
       "      <td>Other</td>\n",
       "      <td>4.99</td>\n",
       "      <td>NaN</td>\n",
       "    </tr>\n",
       "    <tr>\n",
       "      <th>1</th>\n",
       "      <td>Overall Rating</td>\n",
       "      <td>Portable Audio &amp; Video</td>\n",
       "      <td>3214</td>\n",
       "      <td>Other</td>\n",
       "      <td>4.84</td>\n",
       "      <td>NaN</td>\n",
       "    </tr>\n",
       "    <tr>\n",
       "      <th>2</th>\n",
       "      <td>Overall Rating</td>\n",
       "      <td>Portable Audio &amp; Video</td>\n",
       "      <td>2667</td>\n",
       "      <td>Other</td>\n",
       "      <td>4.78</td>\n",
       "      <td>NaN</td>\n",
       "    </tr>\n",
       "    <tr>\n",
       "      <th>3</th>\n",
       "      <td>Overall Rating</td>\n",
       "      <td>Portable Audio &amp; Video</td>\n",
       "      <td>5802</td>\n",
       "      <td>Other</td>\n",
       "      <td>4.71</td>\n",
       "      <td>NaN</td>\n",
       "    </tr>\n",
       "    <tr>\n",
       "      <th>4</th>\n",
       "      <td>Overall Rating</td>\n",
       "      <td>Portable Audio &amp; Video</td>\n",
       "      <td>7715</td>\n",
       "      <td>Other</td>\n",
       "      <td>4.69</td>\n",
       "      <td>NaN</td>\n",
       "    </tr>\n",
       "    <tr>\n",
       "      <th>...</th>\n",
       "      <td>...</td>\n",
       "      <td>...</td>\n",
       "      <td>...</td>\n",
       "      <td>...</td>\n",
       "      <td>...</td>\n",
       "      <td>...</td>\n",
       "    </tr>\n",
       "    <tr>\n",
       "      <th>135</th>\n",
       "      <td>Latest Trend Rating</td>\n",
       "      <td>Tops</td>\n",
       "      <td>67022</td>\n",
       "      <td>Out of Print</td>\n",
       "      <td>4.81</td>\n",
       "      <td>NaN</td>\n",
       "    </tr>\n",
       "    <tr>\n",
       "      <th>136</th>\n",
       "      <td>Latest Trend Rating</td>\n",
       "      <td>Tops</td>\n",
       "      <td>122266</td>\n",
       "      <td>Kin Ship</td>\n",
       "      <td>4.78</td>\n",
       "      <td>NaN</td>\n",
       "    </tr>\n",
       "    <tr>\n",
       "      <th>137</th>\n",
       "      <td>Latest Trend Rating</td>\n",
       "      <td>Tops</td>\n",
       "      <td>63583</td>\n",
       "      <td>Other</td>\n",
       "      <td>4.73</td>\n",
       "      <td>NaN</td>\n",
       "    </tr>\n",
       "    <tr>\n",
       "      <th>138</th>\n",
       "      <td>Latest Trend Rating</td>\n",
       "      <td>Tops</td>\n",
       "      <td>137370</td>\n",
       "      <td>Other</td>\n",
       "      <td>4.73</td>\n",
       "      <td>NaN</td>\n",
       "    </tr>\n",
       "    <tr>\n",
       "      <th>139</th>\n",
       "      <td>Latest Trend Rating</td>\n",
       "      <td>Tops</td>\n",
       "      <td>143764</td>\n",
       "      <td>Daisey Natives</td>\n",
       "      <td>4.71</td>\n",
       "      <td>NaN</td>\n",
       "    </tr>\n",
       "  </tbody>\n",
       "</table>\n",
       "<p>140 rows × 6 columns</p>\n",
       "</div>"
      ],
      "text/plain": [
       "    Recommendation_System_Type                Category  Product  \\\n",
       "0               Overall Rating  Portable Audio & Video     1647   \n",
       "1               Overall Rating  Portable Audio & Video     3214   \n",
       "2               Overall Rating  Portable Audio & Video     2667   \n",
       "3               Overall Rating  Portable Audio & Video     5802   \n",
       "4               Overall Rating  Portable Audio & Video     7715   \n",
       "..                         ...                     ...      ...   \n",
       "135        Latest Trend Rating                    Tops    67022   \n",
       "136        Latest Trend Rating                    Tops   122266   \n",
       "137        Latest Trend Rating                    Tops    63583   \n",
       "138        Latest Trend Rating                    Tops   137370   \n",
       "139        Latest Trend Rating                    Tops   143764   \n",
       "\n",
       "              Brand  Rating  Sales  \n",
       "0             Other    4.99    NaN  \n",
       "1             Other    4.84    NaN  \n",
       "2             Other    4.78    NaN  \n",
       "3             Other    4.71    NaN  \n",
       "4             Other    4.69    NaN  \n",
       "..              ...     ...    ...  \n",
       "135    Out of Print    4.81    NaN  \n",
       "136        Kin Ship    4.78    NaN  \n",
       "137           Other    4.73    NaN  \n",
       "138           Other    4.73    NaN  \n",
       "139  Daisey Natives    4.71    NaN  \n",
       "\n",
       "[140 rows x 6 columns]"
      ]
     },
     "execution_count": 161,
     "metadata": {},
     "output_type": "execute_result"
    }
   ],
   "source": [
    "raw_ratings_item_recommendation_df"
   ]
  },
  {
   "cell_type": "code",
   "execution_count": 170,
   "metadata": {},
   "outputs": [],
   "source": [
    "# for sample category\n",
    "# for overall rating\n",
    "\n",
    "cat = \"Portable Audio & Video\"\n",
    "system_type = \"Overall Rating\"\n",
    "\n",
    "temp_df = raw_ratings_item_recommendation_df[(raw_ratings_item_recommendation_df.Category == cat) & (raw_ratings_item_recommendation_df.Recommendation_System_Type == system_type)]"
   ]
  },
  {
   "cell_type": "code",
   "execution_count": 171,
   "metadata": {},
   "outputs": [],
   "source": [
    "def rcmnd_item_rating(system_type, category):\n",
    "    temp_df = raw_ratings_item_recommendation_df[(raw_ratings_item_recommendation_df.Category == category) & (raw_ratings_item_recommendation_df.Recommendation_System_Type == system_type)]\n",
    "    products = temp_df.Product.tolist()\n",
    "    brands = temp_df.Brand.tolist()\n",
    "    ratings = temp_df.Rating.tolist()\n",
    "    similar_items = [recommender_whole(item) for item in products]\n",
    "    return products, brands, ratings, similar_items"
   ]
  },
  {
   "cell_type": "code",
   "execution_count": 172,
   "metadata": {},
   "outputs": [
    {
     "data": {
      "text/plain": [
       "([1647, 3214, 2667, 5802, 7715],\n",
       " ['Other', 'Other', 'Other', 'Other', 'Other'],\n",
       " [4.99, 4.84, 4.78, 4.71, 4.69],\n",
       " [['item: 3555 from category: Computers & Accessories',\n",
       "   'item: 6197 from category: Computers & Accessories',\n",
       "   'item: 3951 from category: Computers & Accessories',\n",
       "   'item: 1309 from category: Computers & Accessories',\n",
       "   'item: 4562 from category: Headphones'],\n",
       "  ['item: 5115 from category: Accessories & Supplies',\n",
       "   'item: 2945 from category: Portable Audio & Video',\n",
       "   'item: 4041 from category: Headphones',\n",
       "   'item: 3114 from category: Accessories & Supplies',\n",
       "   'item: 1539 from category: Headphones'],\n",
       "  ['item: 1007 from category: Camera & Photo',\n",
       "   'item: 2211 from category: Computers & Accessories',\n",
       "   'item: 3878 from category: Portable Audio & Video',\n",
       "   'item: 4013 from category: Headphones',\n",
       "   'item: 5351 from category: Headphones'],\n",
       "  ['item: 4661 from category: Computers & Accessories',\n",
       "   'item: 6240 from category: Computers & Accessories',\n",
       "   'item: 4058 from category: Computers & Accessories',\n",
       "   'item: 5941 from category: Headphones',\n",
       "   'item: 2665 from category: Computers & Accessories'],\n",
       "  ['item: 7881 from category: Computers & Accessories',\n",
       "   'item: 6283 from category: Portable Audio & Video',\n",
       "   'item: 3661 from category: Accessories & Supplies',\n",
       "   'item: 3131 from category: Portable Audio & Video',\n",
       "   'item: 8196 from category: Headphones']])"
      ]
     },
     "execution_count": 172,
     "metadata": {},
     "output_type": "execute_result"
    }
   ],
   "source": [
    "rcmnd_item_rating(system_type, cat)"
   ]
  },
  {
   "cell_type": "code",
   "execution_count": 7,
   "metadata": {},
   "outputs": [
    {
     "data": {
      "text/plain": [
       "([1064, 816, 790, 570, 1149],\n",
       " ['Other', 'Uniden', 'Other', 'Archos', 'Sony'],\n",
       " [5.0, 5.0, 5.0, 5.0, 5.0])"
      ]
     },
     "execution_count": 7,
     "metadata": {},
     "output_type": "execute_result"
    }
   ],
   "source": [
    "rcmnd_item_rating(system_type=\"Latest Trend Rating\", category=cat)"
   ]
  },
  {
   "cell_type": "markdown",
   "metadata": {},
   "source": [
    "# Brands based on Ratings"
   ]
  },
  {
   "cell_type": "code",
   "execution_count": 8,
   "metadata": {},
   "outputs": [
    {
     "data": {
      "text/html": [
       "<div>\n",
       "<style scoped>\n",
       "    .dataframe tbody tr th:only-of-type {\n",
       "        vertical-align: middle;\n",
       "    }\n",
       "\n",
       "    .dataframe tbody tr th {\n",
       "        vertical-align: top;\n",
       "    }\n",
       "\n",
       "    .dataframe thead th {\n",
       "        text-align: right;\n",
       "    }\n",
       "</style>\n",
       "<table border=\"1\" class=\"dataframe\">\n",
       "  <thead>\n",
       "    <tr style=\"text-align: right;\">\n",
       "      <th></th>\n",
       "      <th>Recommendation_System_Type</th>\n",
       "      <th>Category</th>\n",
       "      <th>Brand</th>\n",
       "      <th>Brand_Rating</th>\n",
       "      <th>Top_Products</th>\n",
       "      <th>Sales</th>\n",
       "    </tr>\n",
       "  </thead>\n",
       "  <tbody>\n",
       "    <tr>\n",
       "      <th>0</th>\n",
       "      <td>Overall_Brandwise_Recommendation</td>\n",
       "      <td>Portable Audio &amp; Video</td>\n",
       "      <td>Mpow</td>\n",
       "      <td>4.48</td>\n",
       "      <td>['5974 - 4.49', '5748 - 4.47']</td>\n",
       "      <td>NaN</td>\n",
       "    </tr>\n",
       "    <tr>\n",
       "      <th>1</th>\n",
       "      <td>Overall_Brandwise_Recommendation</td>\n",
       "      <td>Portable Audio &amp; Video</td>\n",
       "      <td>Bose</td>\n",
       "      <td>4.43</td>\n",
       "      <td>['5171 - 4.51', '5273 - 4.48', '5156 - 4.47', ...</td>\n",
       "      <td>NaN</td>\n",
       "    </tr>\n",
       "    <tr>\n",
       "      <th>2</th>\n",
       "      <td>Overall_Brandwise_Recommendation</td>\n",
       "      <td>Portable Audio &amp; Video</td>\n",
       "      <td>Apple</td>\n",
       "      <td>4.35</td>\n",
       "      <td>['1139 - 4.35']</td>\n",
       "      <td>NaN</td>\n",
       "    </tr>\n",
       "    <tr>\n",
       "      <th>3</th>\n",
       "      <td>Overall_Brandwise_Recommendation</td>\n",
       "      <td>Portable Audio &amp; Video</td>\n",
       "      <td>DBPOWER</td>\n",
       "      <td>4.16</td>\n",
       "      <td>['4009 - 4.2', '2864 - 4.0', '4079 - 3.46']</td>\n",
       "      <td>NaN</td>\n",
       "    </tr>\n",
       "    <tr>\n",
       "      <th>4</th>\n",
       "      <td>Overall_Brandwise_Recommendation</td>\n",
       "      <td>Portable Audio &amp; Video</td>\n",
       "      <td>Logitech</td>\n",
       "      <td>4.07</td>\n",
       "      <td>['1948 - 4.07']</td>\n",
       "      <td>NaN</td>\n",
       "    </tr>\n",
       "    <tr>\n",
       "      <th>...</th>\n",
       "      <td>...</td>\n",
       "      <td>...</td>\n",
       "      <td>...</td>\n",
       "      <td>...</td>\n",
       "      <td>...</td>\n",
       "      <td>...</td>\n",
       "    </tr>\n",
       "    <tr>\n",
       "      <th>115</th>\n",
       "      <td>Latest_Brandwise_Recommendation</td>\n",
       "      <td>Tops</td>\n",
       "      <td>Kin Ship</td>\n",
       "      <td>4.76</td>\n",
       "      <td>['122266 - 4.78', '70230 - 4.67']</td>\n",
       "      <td>NaN</td>\n",
       "    </tr>\n",
       "    <tr>\n",
       "      <th>116</th>\n",
       "      <td>Latest_Brandwise_Recommendation</td>\n",
       "      <td>Tops</td>\n",
       "      <td>Daisey Natives</td>\n",
       "      <td>4.71</td>\n",
       "      <td>['143764 - 4.71']</td>\n",
       "      <td>NaN</td>\n",
       "    </tr>\n",
       "    <tr>\n",
       "      <th>117</th>\n",
       "      <td>Latest_Brandwise_Recommendation</td>\n",
       "      <td>Tops</td>\n",
       "      <td>Out of Print</td>\n",
       "      <td>4.58</td>\n",
       "      <td>['67022 - 4.81', '113643 - 4.0']</td>\n",
       "      <td>NaN</td>\n",
       "    </tr>\n",
       "    <tr>\n",
       "      <th>118</th>\n",
       "      <td>Latest_Brandwise_Recommendation</td>\n",
       "      <td>Tops</td>\n",
       "      <td>ModCloth</td>\n",
       "      <td>4.30</td>\n",
       "      <td>['40899 - 4.63', '59176 - 4.57', '153726 - 4.5...</td>\n",
       "      <td>NaN</td>\n",
       "    </tr>\n",
       "    <tr>\n",
       "      <th>119</th>\n",
       "      <td>Latest_Brandwise_Recommendation</td>\n",
       "      <td>Tops</td>\n",
       "      <td>Banned</td>\n",
       "      <td>4.02</td>\n",
       "      <td>['146244 - 4.02']</td>\n",
       "      <td>NaN</td>\n",
       "    </tr>\n",
       "  </tbody>\n",
       "</table>\n",
       "<p>120 rows × 6 columns</p>\n",
       "</div>"
      ],
      "text/plain": [
       "           Recommendation_System_Type                Category           Brand  \\\n",
       "0    Overall_Brandwise_Recommendation  Portable Audio & Video            Mpow   \n",
       "1    Overall_Brandwise_Recommendation  Portable Audio & Video            Bose   \n",
       "2    Overall_Brandwise_Recommendation  Portable Audio & Video           Apple   \n",
       "3    Overall_Brandwise_Recommendation  Portable Audio & Video         DBPOWER   \n",
       "4    Overall_Brandwise_Recommendation  Portable Audio & Video        Logitech   \n",
       "..                                ...                     ...             ...   \n",
       "115   Latest_Brandwise_Recommendation                    Tops        Kin Ship   \n",
       "116   Latest_Brandwise_Recommendation                    Tops  Daisey Natives   \n",
       "117   Latest_Brandwise_Recommendation                    Tops    Out of Print   \n",
       "118   Latest_Brandwise_Recommendation                    Tops        ModCloth   \n",
       "119   Latest_Brandwise_Recommendation                    Tops          Banned   \n",
       "\n",
       "     Brand_Rating                                       Top_Products  Sales  \n",
       "0            4.48                     ['5974 - 4.49', '5748 - 4.47']    NaN  \n",
       "1            4.43  ['5171 - 4.51', '5273 - 4.48', '5156 - 4.47', ...    NaN  \n",
       "2            4.35                                    ['1139 - 4.35']    NaN  \n",
       "3            4.16        ['4009 - 4.2', '2864 - 4.0', '4079 - 3.46']    NaN  \n",
       "4            4.07                                    ['1948 - 4.07']    NaN  \n",
       "..            ...                                                ...    ...  \n",
       "115          4.76                  ['122266 - 4.78', '70230 - 4.67']    NaN  \n",
       "116          4.71                                  ['143764 - 4.71']    NaN  \n",
       "117          4.58                   ['67022 - 4.81', '113643 - 4.0']    NaN  \n",
       "118          4.30  ['40899 - 4.63', '59176 - 4.57', '153726 - 4.5...    NaN  \n",
       "119          4.02                                  ['146244 - 4.02']    NaN  \n",
       "\n",
       "[120 rows x 6 columns]"
      ]
     },
     "execution_count": 8,
     "metadata": {},
     "output_type": "execute_result"
    }
   ],
   "source": [
    "raw_ratings_brand_recommendation_df"
   ]
  },
  {
   "cell_type": "code",
   "execution_count": 9,
   "metadata": {},
   "outputs": [],
   "source": [
    "def rcmnd_brand_rating(system_type, category):\n",
    "    temp_df = raw_ratings_brand_recommendation_df[(raw_ratings_brand_recommendation_df.Category == category) & (raw_ratings_brand_recommendation_df.Recommendation_System_Type == system_type)]\n",
    "    brands = temp_df.Brand.tolist()\n",
    "    ratings = temp_df.Brand_Rating.tolist()\n",
    "    products = temp_df.Top_Products.tolist()\n",
    "    return brands, ratings, products"
   ]
  },
  {
   "cell_type": "code",
   "execution_count": 10,
   "metadata": {},
   "outputs": [
    {
     "data": {
      "text/plain": [
       "(['Mpow', 'Bose', 'Apple', 'DBPOWER', 'Logitech'],\n",
       " [4.48, 4.43, 4.35, 4.16, 4.07],\n",
       " [\"['5974 - 4.49', '5748 - 4.47']\",\n",
       "  \"['5171 - 4.51', '5273 - 4.48', '5156 - 4.47', '7022 - 4.41', '3195 - 4.37']\",\n",
       "  \"['1139 - 4.35']\",\n",
       "  \"['4009 - 4.2', '2864 - 4.0', '4079 - 3.46']\",\n",
       "  \"['1948 - 4.07']\"])"
      ]
     },
     "execution_count": 10,
     "metadata": {},
     "output_type": "execute_result"
    }
   ],
   "source": [
    "rcmnd_brand_rating(\"Overall_Brandwise_Recommendation\",\"Portable Audio & Video\")"
   ]
  },
  {
   "cell_type": "markdown",
   "metadata": {},
   "source": [
    "# Bestselling Items"
   ]
  },
  {
   "cell_type": "code",
   "execution_count": 151,
   "metadata": {},
   "outputs": [
    {
     "data": {
      "text/html": [
       "<div>\n",
       "<style scoped>\n",
       "    .dataframe tbody tr th:only-of-type {\n",
       "        vertical-align: middle;\n",
       "    }\n",
       "\n",
       "    .dataframe tbody tr th {\n",
       "        vertical-align: top;\n",
       "    }\n",
       "\n",
       "    .dataframe thead th {\n",
       "        text-align: right;\n",
       "    }\n",
       "</style>\n",
       "<table border=\"1\" class=\"dataframe\">\n",
       "  <thead>\n",
       "    <tr style=\"text-align: right;\">\n",
       "      <th></th>\n",
       "      <th>Recommendation_Type</th>\n",
       "      <th>Category</th>\n",
       "      <th>Item_ID</th>\n",
       "      <th>Brand</th>\n",
       "      <th>Sold_Units</th>\n",
       "    </tr>\n",
       "  </thead>\n",
       "  <tbody>\n",
       "    <tr>\n",
       "      <th>138</th>\n",
       "      <td>Latest_Bestselling_Items</td>\n",
       "      <td>Tops</td>\n",
       "      <td>40899</td>\n",
       "      <td>ModCloth</td>\n",
       "      <td>957</td>\n",
       "    </tr>\n",
       "    <tr>\n",
       "      <th>139</th>\n",
       "      <td>Latest_Bestselling_Items</td>\n",
       "      <td>Tops</td>\n",
       "      <td>59176</td>\n",
       "      <td>ModCloth</td>\n",
       "      <td>933</td>\n",
       "    </tr>\n",
       "  </tbody>\n",
       "</table>\n",
       "</div>"
      ],
      "text/plain": [
       "          Recommendation_Type Category  Item_ID     Brand  Sold_Units\n",
       "138  Latest_Bestselling_Items     Tops    40899  ModCloth         957\n",
       "139  Latest_Bestselling_Items     Tops    59176  ModCloth         933"
      ]
     },
     "execution_count": 151,
     "metadata": {},
     "output_type": "execute_result"
    }
   ],
   "source": [
    "raw_bestselling_item_recommendation_df.tail(2)"
   ]
  },
  {
   "cell_type": "code",
   "execution_count": 173,
   "metadata": {},
   "outputs": [],
   "source": [
    "def rcmnd_item_bestseller(system_type, category):\n",
    "    temp_df = raw_bestselling_item_recommendation_df[\n",
    "        (raw_bestselling_item_recommendation_df.Category == category)\n",
    "        & (raw_bestselling_item_recommendation_df.Recommendation_Type == system_type)\n",
    "    ]\n",
    "    products = temp_df.Item_ID.tolist()\n",
    "    brands = temp_df.Brand.tolist()\n",
    "    quantity = temp_df.Sold_Units.tolist()\n",
    "    similar_items = [recommender_whole(item) for item in products]\n",
    "    return products, brands, quantity, similar_items"
   ]
  },
  {
   "cell_type": "code",
   "execution_count": 175,
   "metadata": {},
   "outputs": [
    {
     "data": {
      "text/plain": [
       "([7780, 5063, 5940, 4009, 7022],\n",
       " ['Other', 'Other', 'Other', 'DBPOWER', 'Bose'],\n",
       " [28530, 3875, 3437, 3340, 3183],\n",
       " [['item: 8711 from category: Portable Audio & Video',\n",
       "   'item: 8076 from category: Portable Audio & Video',\n",
       "   'item: 8193 from category: Portable Audio & Video',\n",
       "   'item: 6378 from category: Accessories & Supplies',\n",
       "   'item: 3442 from category: Accessories & Supplies'],\n",
       "  ['item: 5071 from category: Headphones',\n",
       "   'item: 6049 from category: Portable Audio & Video',\n",
       "   'item: 7780 from category: Portable Audio & Video',\n",
       "   'item: 8156 from category: Headphones',\n",
       "   'item: 8693 from category: Headphones'],\n",
       "  ['item: 5748 from category: Portable Audio & Video',\n",
       "   'item: 4547 from category: Car Electronics & GPS',\n",
       "   'item: 5876 from category: Computers & Accessories',\n",
       "   'item: 5894 from category: Headphones',\n",
       "   'item: 455 from category: Camera & Photo'],\n",
       "  ['item: 5835 from category: Headphones',\n",
       "   'item: 4633 from category: Television & Video',\n",
       "   'item: 2864 from category: Portable Audio & Video',\n",
       "   'item: 1984 from category: Television & Video',\n",
       "   'item: 8074 from category: Television & Video'],\n",
       "  ['item: 7465 from category: Headphones',\n",
       "   'item: 7645 from category: Headphones',\n",
       "   'item: 7444 from category: Headphones',\n",
       "   'item: 6662 from category: Home Audio',\n",
       "   'item: 7227 from category: Portable Audio & Video']])"
      ]
     },
     "execution_count": 175,
     "metadata": {},
     "output_type": "execute_result"
    }
   ],
   "source": [
    "rcmnd_item_bestseller(\"Overall_Bestselling_Items\", \"Portable Audio & Video\")"
   ]
  },
  {
   "cell_type": "markdown",
   "metadata": {},
   "source": [
    "# Bestselling Brands"
   ]
  },
  {
   "cell_type": "code",
   "execution_count": 150,
   "metadata": {},
   "outputs": [
    {
     "data": {
      "text/html": [
       "<div>\n",
       "<style scoped>\n",
       "    .dataframe tbody tr th:only-of-type {\n",
       "        vertical-align: middle;\n",
       "    }\n",
       "\n",
       "    .dataframe tbody tr th {\n",
       "        vertical-align: top;\n",
       "    }\n",
       "\n",
       "    .dataframe thead th {\n",
       "        text-align: right;\n",
       "    }\n",
       "</style>\n",
       "<table border=\"1\" class=\"dataframe\">\n",
       "  <thead>\n",
       "    <tr style=\"text-align: right;\">\n",
       "      <th></th>\n",
       "      <th>Recommendation_System_Type</th>\n",
       "      <th>Category</th>\n",
       "      <th>Brand</th>\n",
       "      <th>Brand_Sales</th>\n",
       "      <th>Top_Products</th>\n",
       "    </tr>\n",
       "  </thead>\n",
       "  <tbody>\n",
       "    <tr>\n",
       "      <th>118</th>\n",
       "      <td>Latest_Bestselling_Brand</td>\n",
       "      <td>Tops</td>\n",
       "      <td>Banned</td>\n",
       "      <td>48</td>\n",
       "      <td>[146244]</td>\n",
       "    </tr>\n",
       "    <tr>\n",
       "      <th>119</th>\n",
       "      <td>Latest_Bestselling_Brand</td>\n",
       "      <td>Tops</td>\n",
       "      <td>Daisey Natives</td>\n",
       "      <td>38</td>\n",
       "      <td>[143764]</td>\n",
       "    </tr>\n",
       "  </tbody>\n",
       "</table>\n",
       "</div>"
      ],
      "text/plain": [
       "    Recommendation_System_Type Category           Brand  Brand_Sales  \\\n",
       "118   Latest_Bestselling_Brand     Tops          Banned           48   \n",
       "119   Latest_Bestselling_Brand     Tops  Daisey Natives           38   \n",
       "\n",
       "    Top_Products  \n",
       "118     [146244]  \n",
       "119     [143764]  "
      ]
     },
     "execution_count": 150,
     "metadata": {},
     "output_type": "execute_result"
    }
   ],
   "source": [
    "raw_bestselling_brand_recommendation_df.tail(2)"
   ]
  },
  {
   "cell_type": "code",
   "execution_count": 47,
   "metadata": {},
   "outputs": [],
   "source": [
    "def rcmnd_brand_bestseller(system_type, category):\n",
    "    temp_df = raw_bestselling_brand_recommendation_df[\n",
    "        (raw_bestselling_brand_recommendation_df.Category == category)\n",
    "        & (raw_bestselling_brand_recommendation_df.Recommendation_System_Type == system_type)\n",
    "    ]\n",
    "    \n",
    "    brands = temp_df.Brand.tolist()\n",
    "    quantity = temp_df.Brand_Sales.tolist()\n",
    "    products = temp_df.Top_Products.tolist()\n",
    "    return brands, quantity, products"
   ]
  },
  {
   "cell_type": "code",
   "execution_count": 16,
   "metadata": {},
   "outputs": [
    {
     "data": {
      "text/plain": [
       "(['Bose', 'DBPOWER', 'Pyle', 'Uniden', 'Mpow'],\n",
       " [6826, 3812, 3083, 2802, 1807],\n",
       " ['[7022, 5171, 5273, 5156, 3195]',\n",
       "  '[4009, 2864, 4079]',\n",
       "  '[33, 3468, 4753, 5445, 3502]',\n",
       "  '[2223, 2159, 2434, 4419, 1848]',\n",
       "  '[5748, 5974]'])"
      ]
     },
     "execution_count": 16,
     "metadata": {},
     "output_type": "execute_result"
    }
   ],
   "source": [
    "rcmnd_brand_rating(\"Overall_Bestselling_Brand\",\"Portable Audio & Video\")"
   ]
  },
  {
   "cell_type": "markdown",
   "metadata": {},
   "source": [
    "# Apriori"
   ]
  },
  {
   "cell_type": "markdown",
   "metadata": {},
   "source": [
    "## Items"
   ]
  },
  {
   "cell_type": "code",
   "execution_count": 23,
   "metadata": {},
   "outputs": [
    {
     "data": {
      "text/html": [
       "<div>\n",
       "<style scoped>\n",
       "    .dataframe tbody tr th:only-of-type {\n",
       "        vertical-align: middle;\n",
       "    }\n",
       "\n",
       "    .dataframe tbody tr th {\n",
       "        vertical-align: top;\n",
       "    }\n",
       "\n",
       "    .dataframe thead th {\n",
       "        text-align: right;\n",
       "    }\n",
       "</style>\n",
       "<table border=\"1\" class=\"dataframe\">\n",
       "  <thead>\n",
       "    <tr style=\"text-align: right;\">\n",
       "      <th></th>\n",
       "      <th>antecedents</th>\n",
       "      <th>consequents</th>\n",
       "      <th>support</th>\n",
       "      <th>confidence</th>\n",
       "      <th>lift</th>\n",
       "      <th>Category</th>\n",
       "    </tr>\n",
       "  </thead>\n",
       "  <tbody>\n",
       "    <tr>\n",
       "      <th>0</th>\n",
       "      <td>1706</td>\n",
       "      <td>3035</td>\n",
       "      <td>0.023612</td>\n",
       "      <td>0.477876</td>\n",
       "      <td>15.612895</td>\n",
       "      <td>Portable Audio &amp; Video</td>\n",
       "    </tr>\n",
       "    <tr>\n",
       "      <th>1</th>\n",
       "      <td>3035</td>\n",
       "      <td>1706</td>\n",
       "      <td>0.023612</td>\n",
       "      <td>0.771429</td>\n",
       "      <td>15.612895</td>\n",
       "      <td>Portable Audio &amp; Video</td>\n",
       "    </tr>\n",
       "  </tbody>\n",
       "</table>\n",
       "</div>"
      ],
      "text/plain": [
       "   antecedents  consequents   support  confidence       lift  \\\n",
       "0         1706         3035  0.023612    0.477876  15.612895   \n",
       "1         3035         1706  0.023612    0.771429  15.612895   \n",
       "\n",
       "                 Category  \n",
       "0  Portable Audio & Video  \n",
       "1  Portable Audio & Video  "
      ]
     },
     "execution_count": 23,
     "metadata": {},
     "output_type": "execute_result"
    }
   ],
   "source": [
    "raw_apriori_item_df.head(2)"
   ]
  },
  {
   "cell_type": "code",
   "execution_count": 55,
   "metadata": {},
   "outputs": [],
   "source": []
  },
  {
   "cell_type": "code",
   "execution_count": 68,
   "metadata": {},
   "outputs": [
    {
     "name": "stderr",
     "output_type": "stream",
     "text": [
      "<ipython-input-68-ea9815a811f1>:2: SettingWithCopyWarning: \n",
      "A value is trying to be set on a copy of a slice from a DataFrame.\n",
      "Try using .loc[row_indexer,col_indexer] = value instead\n",
      "\n",
      "See the caveats in the documentation: https://pandas.pydata.org/pandas-docs/stable/user_guide/indexing.html#returning-a-view-versus-a-copy\n",
      "  raw_apriori_item_df_itemset[\"combo\"] = raw_apriori_item_df_itemset.antecedents.astype(\"str\") + \",\" + raw_apriori_item_df_itemset.consequents.astype(\"str\")\n"
     ]
    }
   ],
   "source": [
    "raw_apriori_item_df_itemset = raw_apriori_item_df[[\"antecedents\",\"consequents\",\"Category\"]]\n",
    "raw_apriori_item_df_itemset[\"combo\"] = raw_apriori_item_df_itemset.antecedents.astype(\"str\") + \",\" + raw_apriori_item_df_itemset.consequents.astype(\"str\")\n",
    "combo_item = raw_apriori_item_df_itemset[[\"Category\", \"combo\"]]\n",
    "\n",
    "def item_combo_list(category):\n",
    "    return combo_item[combo_item.Category == category][\"combo\"].tolist()"
   ]
  },
  {
   "cell_type": "code",
   "execution_count": null,
   "metadata": {},
   "outputs": [],
   "source": []
  },
  {
   "cell_type": "markdown",
   "metadata": {},
   "source": [
    "## Category"
   ]
  },
  {
   "cell_type": "code",
   "execution_count": 72,
   "metadata": {},
   "outputs": [
    {
     "name": "stderr",
     "output_type": "stream",
     "text": [
      "<ipython-input-72-e2be9cab0bda>:2: SettingWithCopyWarning: \n",
      "A value is trying to be set on a copy of a slice from a DataFrame.\n",
      "Try using .loc[row_indexer,col_indexer] = value instead\n",
      "\n",
      "See the caveats in the documentation: https://pandas.pydata.org/pandas-docs/stable/user_guide/indexing.html#returning-a-view-versus-a-copy\n",
      "  raw_apriori_category_df_categoryset[\"combo\"] = raw_apriori_category_df_categoryset.antecedents.astype(\"str\") + \",\" + raw_apriori_category_df_categoryset.consequents.astype(\"str\")\n"
     ]
    }
   ],
   "source": [
    "raw_apriori_category_df_categoryset = raw_apriori_category_df[[\"antecedents\",\"consequents\"]]\n",
    "raw_apriori_category_df_categoryset[\"combo\"] = raw_apriori_category_df_categoryset.antecedents.astype(\"str\") + \",\" + raw_apriori_category_df_categoryset.consequents.astype(\"str\")\n",
    "combo_category = raw_apriori_category_df_categoryset[[\"combo\"]]\n",
    "\n",
    "# def cat_combo_list(category):\n",
    "#     return combo_item[combo_item.Category == category][\"combo\"].tolist()"
   ]
  },
  {
   "cell_type": "code",
   "execution_count": 143,
   "metadata": {
    "scrolled": true
   },
   "outputs": [],
   "source": [
    "combo_category_list = combo_category.combo.tolist()\n",
    "combo_category_list = [i.split(\",\") for i in combo_category_list]"
   ]
  },
  {
   "cell_type": "code",
   "execution_count": 144,
   "metadata": {},
   "outputs": [],
   "source": [
    "combo_category_list = [set(i) for i in combo_category_list]"
   ]
  },
  {
   "cell_type": "code",
   "execution_count": 145,
   "metadata": {},
   "outputs": [],
   "source": [
    "combo_category_list = [list(i) for i in combo_category_list]"
   ]
  },
  {
   "cell_type": "code",
   "execution_count": 134,
   "metadata": {},
   "outputs": [],
   "source": [
    "pd.DataFrame({\"element\":combo_category_list}).to_csv(\"category_combo.csv\",index=False)"
   ]
  },
  {
   "cell_type": "code",
   "execution_count": 138,
   "metadata": {},
   "outputs": [
    {
     "data": {
      "text/plain": [
       "''"
      ]
     },
     "execution_count": 138,
     "metadata": {},
     "output_type": "execute_result"
    }
   ],
   "source": [
    "\"\"\"\"\"\"\"\"\"\"\"\"\"\"\"\"\"\"\"\"\"\"\"\"\"\"\"\"\"\"\"\"\"\"\"\"\"\"\"\"\"\"\"\"\"\"\"\"\"\"\"\"\"\"\"\"\"\"\"\"\"\"\"\"\"\"\"\"\"\"\"\"\"\"\"\"\"\"\"\"\"\"\"\"\"\"\"\"\"\""
   ]
  },
  {
   "cell_type": "code",
   "execution_count": 147,
   "metadata": {},
   "outputs": [],
   "source": [
    "combo_category_list = pd.read_csv(\"category_combo.csv\")\n",
    "combo_category_list = combo_category_list.element.tolist()"
   ]
  },
  {
   "cell_type": "code",
   "execution_count": 148,
   "metadata": {},
   "outputs": [],
   "source": [
    "def category_combo_list(category):\n",
    "    combo_list = []\n",
    "    for combination in combo_category_list:\n",
    "        if category in combination:\n",
    "            combo_list.append(combination)\n",
    "    return combo_list"
   ]
  },
  {
   "cell_type": "code",
   "execution_count": 149,
   "metadata": {},
   "outputs": [
    {
     "data": {
      "text/plain": [
       "['Dresses,  Bottoms,  Tops, Outerwear']"
      ]
     },
     "execution_count": 149,
     "metadata": {},
     "output_type": "execute_result"
    }
   ],
   "source": [
    "category_combo_list(\"Dresses\")"
   ]
  },
  {
   "cell_type": "markdown",
   "metadata": {},
   "source": [
    "# Check"
   ]
  },
  {
   "cell_type": "code",
   "execution_count": 25,
   "metadata": {},
   "outputs": [],
   "source": [
    "antecedents_item_list = raw_apriori_item_df.antecedents.tolist()\n",
    "consequents_item_list = raw_apriori_item_df.consequents.tolist()"
   ]
  },
  {
   "cell_type": "code",
   "execution_count": 27,
   "metadata": {},
   "outputs": [
    {
     "data": {
      "text/html": [
       "<div>\n",
       "<style scoped>\n",
       "    .dataframe tbody tr th:only-of-type {\n",
       "        vertical-align: middle;\n",
       "    }\n",
       "\n",
       "    .dataframe tbody tr th {\n",
       "        vertical-align: top;\n",
       "    }\n",
       "\n",
       "    .dataframe thead th {\n",
       "        text-align: right;\n",
       "    }\n",
       "</style>\n",
       "<table border=\"1\" class=\"dataframe\">\n",
       "  <thead>\n",
       "    <tr style=\"text-align: right;\">\n",
       "      <th></th>\n",
       "      <th>antecedents</th>\n",
       "      <th>consequents</th>\n",
       "      <th>confidence</th>\n",
       "      <th>lift</th>\n",
       "    </tr>\n",
       "  </thead>\n",
       "  <tbody>\n",
       "    <tr>\n",
       "      <th>0</th>\n",
       "      <td>Headphones, Camera &amp; Photo, Accessories &amp; Supp...</td>\n",
       "      <td>Portable Audio &amp; Video, Computers &amp; Accessories</td>\n",
       "      <td>0.127848</td>\n",
       "      <td>1.601001</td>\n",
       "    </tr>\n",
       "    <tr>\n",
       "      <th>1</th>\n",
       "      <td>Portable Audio &amp; Video, Computers &amp; Accessories</td>\n",
       "      <td>Headphones, Camera &amp; Photo, Accessories &amp; Supp...</td>\n",
       "      <td>0.017095</td>\n",
       "      <td>1.601001</td>\n",
       "    </tr>\n",
       "  </tbody>\n",
       "</table>\n",
       "</div>"
      ],
      "text/plain": [
       "                                         antecedents  \\\n",
       "0  Headphones, Camera & Photo, Accessories & Supp...   \n",
       "1    Portable Audio & Video, Computers & Accessories   \n",
       "\n",
       "                                         consequents  confidence      lift  \n",
       "0    Portable Audio & Video, Computers & Accessories    0.127848  1.601001  \n",
       "1  Headphones, Camera & Photo, Accessories & Supp...    0.017095  1.601001  "
      ]
     },
     "execution_count": 27,
     "metadata": {},
     "output_type": "execute_result"
    }
   ],
   "source": [
    "raw_apriori_category_df.head(2)"
   ]
  },
  {
   "cell_type": "code",
   "execution_count": 29,
   "metadata": {},
   "outputs": [
    {
     "data": {
      "text/html": [
       "<div>\n",
       "<style scoped>\n",
       "    .dataframe tbody tr th:only-of-type {\n",
       "        vertical-align: middle;\n",
       "    }\n",
       "\n",
       "    .dataframe tbody tr th {\n",
       "        vertical-align: top;\n",
       "    }\n",
       "\n",
       "    .dataframe thead th {\n",
       "        text-align: right;\n",
       "    }\n",
       "</style>\n",
       "<table border=\"1\" class=\"dataframe\">\n",
       "  <thead>\n",
       "    <tr style=\"text-align: right;\">\n",
       "      <th></th>\n",
       "      <th>Recommendation_System_Type</th>\n",
       "      <th>Category</th>\n",
       "      <th>Brand</th>\n",
       "      <th>Brand_Sales</th>\n",
       "      <th>Top_Products</th>\n",
       "    </tr>\n",
       "  </thead>\n",
       "  <tbody>\n",
       "    <tr>\n",
       "      <th>0</th>\n",
       "      <td>Overall_Bestselling_Brand</td>\n",
       "      <td>Portable Audio &amp; Video</td>\n",
       "      <td>Bose</td>\n",
       "      <td>6826</td>\n",
       "      <td>[7022, 5171, 5273, 5156, 3195]</td>\n",
       "    </tr>\n",
       "    <tr>\n",
       "      <th>1</th>\n",
       "      <td>Overall_Bestselling_Brand</td>\n",
       "      <td>Portable Audio &amp; Video</td>\n",
       "      <td>DBPOWER</td>\n",
       "      <td>3812</td>\n",
       "      <td>[4009, 2864, 4079]</td>\n",
       "    </tr>\n",
       "  </tbody>\n",
       "</table>\n",
       "</div>"
      ],
      "text/plain": [
       "  Recommendation_System_Type                Category    Brand  Brand_Sales  \\\n",
       "0  Overall_Bestselling_Brand  Portable Audio & Video     Bose         6826   \n",
       "1  Overall_Bestselling_Brand  Portable Audio & Video  DBPOWER         3812   \n",
       "\n",
       "                     Top_Products  \n",
       "0  [7022, 5171, 5273, 5156, 3195]  \n",
       "1              [4009, 2864, 4079]  "
      ]
     },
     "execution_count": 29,
     "metadata": {},
     "output_type": "execute_result"
    }
   ],
   "source": [
    "raw_bestselling_brand_recommendation_df.head(2)"
   ]
  },
  {
   "cell_type": "code",
   "execution_count": 31,
   "metadata": {},
   "outputs": [
    {
     "data": {
      "text/html": [
       "<div>\n",
       "<style scoped>\n",
       "    .dataframe tbody tr th:only-of-type {\n",
       "        vertical-align: middle;\n",
       "    }\n",
       "\n",
       "    .dataframe tbody tr th {\n",
       "        vertical-align: top;\n",
       "    }\n",
       "\n",
       "    .dataframe thead th {\n",
       "        text-align: right;\n",
       "    }\n",
       "</style>\n",
       "<table border=\"1\" class=\"dataframe\">\n",
       "  <thead>\n",
       "    <tr style=\"text-align: right;\">\n",
       "      <th></th>\n",
       "      <th>Recommendation_System_Type</th>\n",
       "      <th>Category</th>\n",
       "      <th>Brand</th>\n",
       "      <th>Brand_Rating</th>\n",
       "      <th>Top_Products</th>\n",
       "      <th>Sales</th>\n",
       "    </tr>\n",
       "  </thead>\n",
       "  <tbody>\n",
       "    <tr>\n",
       "      <th>0</th>\n",
       "      <td>Overall_Brandwise_Recommendation</td>\n",
       "      <td>Portable Audio &amp; Video</td>\n",
       "      <td>Mpow</td>\n",
       "      <td>4.48</td>\n",
       "      <td>['5974 - 4.49', '5748 - 4.47']</td>\n",
       "      <td>NaN</td>\n",
       "    </tr>\n",
       "    <tr>\n",
       "      <th>1</th>\n",
       "      <td>Overall_Brandwise_Recommendation</td>\n",
       "      <td>Portable Audio &amp; Video</td>\n",
       "      <td>Bose</td>\n",
       "      <td>4.43</td>\n",
       "      <td>['5171 - 4.51', '5273 - 4.48', '5156 - 4.47', ...</td>\n",
       "      <td>NaN</td>\n",
       "    </tr>\n",
       "  </tbody>\n",
       "</table>\n",
       "</div>"
      ],
      "text/plain": [
       "         Recommendation_System_Type                Category Brand  \\\n",
       "0  Overall_Brandwise_Recommendation  Portable Audio & Video  Mpow   \n",
       "1  Overall_Brandwise_Recommendation  Portable Audio & Video  Bose   \n",
       "\n",
       "   Brand_Rating                                       Top_Products  Sales  \n",
       "0          4.48                     ['5974 - 4.49', '5748 - 4.47']    NaN  \n",
       "1          4.43  ['5171 - 4.51', '5273 - 4.48', '5156 - 4.47', ...    NaN  "
      ]
     },
     "execution_count": 31,
     "metadata": {},
     "output_type": "execute_result"
    }
   ],
   "source": [
    "raw_ratings_brand_recommendation_df.head(2)"
   ]
  },
  {
   "cell_type": "code",
   "execution_count": 33,
   "metadata": {},
   "outputs": [],
   "source": [
    "raw_apriori_item_df.head(2)\n",
    "antecedents_item_list = raw_apriori_item_df.antecedents.tolist()"
   ]
  },
  {
   "cell_type": "code",
   "execution_count": 34,
   "metadata": {},
   "outputs": [],
   "source": [
    "raw_bestselling_item_recommendation_df.head(2)\n",
    "bestseller_items = raw_bestselling_item_recommendation_df.Item_ID.tolist()"
   ]
  },
  {
   "cell_type": "code",
   "execution_count": 35,
   "metadata": {},
   "outputs": [],
   "source": [
    "raw_ratings_item_recommendation_df.head(2)\n",
    "raw_ratings_item_recommendation_df = raw_bestselling_item_recommendation_df.Item_ID.tolist()"
   ]
  },
  {
   "cell_type": "code",
   "execution_count": 38,
   "metadata": {},
   "outputs": [],
   "source": [
    "test_list = antecedents_item_list+bestseller_items+raw_ratings_item_recommendation_df"
   ]
  },
  {
   "cell_type": "code",
   "execution_count": 42,
   "metadata": {},
   "outputs": [],
   "source": [
    "test_list = list(set(test_list))"
   ]
  },
  {
   "cell_type": "code",
   "execution_count": 43,
   "metadata": {},
   "outputs": [
    {
     "data": {
      "text/plain": [
       "91"
      ]
     },
     "execution_count": 43,
     "metadata": {},
     "output_type": "execute_result"
    }
   ],
   "source": [
    "len(test_list)"
   ]
  },
  {
   "cell_type": "code",
   "execution_count": 44,
   "metadata": {},
   "outputs": [],
   "source": [
    "test_items = []\n",
    "for i in test_list:\n",
    "    if (i in antecedents_item_list) & (i in bestseller_items) & (i in raw_ratings_item_recommendation_df):\n",
    "        test_items.append(i)"
   ]
  },
  {
   "cell_type": "code",
   "execution_count": 45,
   "metadata": {},
   "outputs": [
    {
     "data": {
      "text/plain": [
       "[57369,\n",
       " 16411,\n",
       " 3617,\n",
       " 1575,\n",
       " 27439,\n",
       " 21296,\n",
       " 6210,\n",
       " 6726,\n",
       " 2129,\n",
       " 1105,\n",
       " 8802,\n",
       " 7780,\n",
       " 80238,\n",
       " 6005,\n",
       " 34935,\n",
       " 50818,\n",
       " 3728,\n",
       " 32405,\n",
       " 32406,\n",
       " 3995,\n",
       " 2483,\n",
       " 6328,\n",
       " 11960,\n",
       " 2486,\n",
       " 5054,\n",
       " 40899,\n",
       " 54222,\n",
       " 32236,\n",
       " 62447]"
      ]
     },
     "execution_count": 45,
     "metadata": {},
     "output_type": "execute_result"
    }
   ],
   "source": [
    "test_items"
   ]
  }
 ],
 "metadata": {
  "kernelspec": {
   "display_name": "Python 3",
   "language": "python",
   "name": "python3"
  },
  "language_info": {
   "codemirror_mode": {
    "name": "ipython",
    "version": 3
   },
   "file_extension": ".py",
   "mimetype": "text/x-python",
   "name": "python",
   "nbconvert_exporter": "python",
   "pygments_lexer": "ipython3",
   "version": "3.8.5"
  }
 },
 "nbformat": 4,
 "nbformat_minor": 4
}
